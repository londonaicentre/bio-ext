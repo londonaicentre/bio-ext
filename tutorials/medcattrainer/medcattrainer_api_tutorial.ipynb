{
 "cells": [
  {
   "cell_type": "markdown",
   "metadata": {},
   "source": [
    "# MedCATtrainer API Tutorial\n",
    "\n",
    "\n",
    "This tutorial will walk users through how to use the MedCATtrainer API calls. The code will walk through the code which can be found [here](src/bioext/mctrainer_utils.py).\n",
    "\n",
    "\n",
    "This notebook demonstrates how to use the `MedCATTrainerSession` class to interact with the MedCATTrainer API. We'll cover:\n",
    "\n",
    "1. Setting up the session\n",
    "2. Exploring available resources\n",
    "3. Creating datasets, models, and projects\n",
    "4. Downloading annotations\n",
    "\n",
    "The MedCATTrainer API allows programmatic access to create and manage annotation projects for medical text."
   ]
  },
  {
   "cell_type": "markdown",
   "metadata": {},
   "source": [
    "__SETUP:__\n",
    "\n",
    "You need to have a [medcattrainer service running locally](http://localhost:8001/)\n",
    "\n",
    "The default credentials when setup is:\n",
    "\n",
    "```bash\n",
    "username: admin\n",
    "password: admin\n",
    "```\n",
    "\n",
    "The administrative console can be found here: http://localhost:8001/admin/\n",
    "\n",
    "Within this admin console is where you can manually interact the the MedCATtrainer program and setup projects\n",
    "\n",
    "\n"
   ]
  },
  {
   "cell_type": "markdown",
   "metadata": {},
   "source": [
    "## 1. Setup and Authentication\n",
    "\n",
    "First, let's import the necessary classes and set up our session:"
   ]
  },
  {
   "cell_type": "code",
   "execution_count": 13,
   "metadata": {},
   "outputs": [],
   "source": [
    "import os\n",
    "import json\n",
    "import sys\n",
    "sys.path.append('../../src')\n",
    "from bioext.mctrainer_utils import MedCATTrainerSession, MCTDataset, MCTConceptDB, MCTVocab, MCTModelPack, MCTUser, MCTProject\n",
    "\n",
    "# Set environment variables for authentication, These are default.\n",
    "os.environ['MCTRAINER_USERNAME'] = 'admin'\n",
    "os.environ['MCTRAINER_PASSWORD'] = 'admin'\n"
   ]
  },
  {
   "cell_type": "code",
   "execution_count": 17,
   "metadata": {},
   "outputs": [],
   "source": [
    "# Initialize the session\n",
    "# Default server is http://localhost:8001 if not specified\n",
    "session = MedCATTrainerSession() # Wrapper for the MedCATTrainer API."
   ]
  },
  {
   "cell_type": "markdown",
   "metadata": {},
   "source": [
    "## 2. Explore Available Resources\n",
    "\n",
    "Let's check what resources are already available in the MedCATTrainer instance:"
   ]
  },
  {
   "cell_type": "code",
   "execution_count": 18,
   "metadata": {},
   "outputs": [
    {
     "name": "stdout",
     "output_type": "stream",
     "text": [
      "Users:\n",
      "1 : admin\n",
      "\n",
      "Datasets:\n",
      "\n",
      "Concept DBs:\n",
      "\n",
      "Vocabularies:\n",
      "\n",
      "Model Packs:\n",
      "\n",
      "Meta Tasks:\n",
      "\n",
      "Relation Tasks:\n"
     ]
    }
   ],
   "source": [
    "# Get users\n",
    "users = session.get_users()\n",
    "print(\"Users:\")\n",
    "for user in users:\n",
    "    print(user)\n",
    "print()\n",
    "\n",
    "# Get datasets\n",
    "datasets = session.get_datasets()\n",
    "print(\"Datasets:\")\n",
    "for dataset in datasets:\n",
    "    print(dataset)\n",
    "print()\n",
    "\n",
    "# Get concept databases and vocabularies\n",
    "concept_dbs, vocabs = session.get_models()\n",
    "print(\"Concept DBs:\")\n",
    "for cdb in concept_dbs:\n",
    "    print(cdb)\n",
    "print()\n",
    "print(\"Vocabularies:\")\n",
    "for vocab in vocabs:\n",
    "    print(vocab)\n",
    "print()\n",
    "\n",
    "# Get modelpacks\n",
    "model_packs = session.get_model_packs()\n",
    "print(\"ModelPacks:\")\n",
    "for model_pack in model_packs:\n",
    "    print(model_pack)\n",
    "print()\n",
    "\n",
    "# Get meta tasks\n",
    "meta_tasks = session.get_meta_tasks()\n",
    "print(\"Meta Tasks:\")\n",
    "for i, task in enumerate(meta_tasks):\n",
    "    print(f\"{i+1} : {task.name}\")\n",
    "print()\n",
    "\n",
    "# Get relation tasks\n",
    "rel_tasks = session.get_rel_tasks()\n",
    "print(\"Relation Tasks:\")\n",
    "for i, task in enumerate(rel_tasks):\n",
    "    print(f\"{i+1} : {task.name}\")"
   ]
  },
  {
   "cell_type": "markdown",
   "metadata": {},
   "source": [
    "## 3. Upload new resources to MedCATtrainer\n",
    "\n",
    "Before we create a project we need to create and upload all the required resources. We'll start with a dataset:\n"
   ]
  },
  {
   "cell_type": "code",
   "execution_count": null,
   "metadata": {},
   "outputs": [],
   "source": [
    "# Create a new dataset to be annotated.\n",
    "neurology_dataset = session.create_dataset(\n",
    "    name=\"Neurology Notes\", \n",
    "    dataset_file=\"/resources/neurology_notes.csv\"  # This csv should have atleast these 2 columns. [\"name\", \"text\"]\n",
    ")\n",
    "print(f\"Created dataset: {neurology_dataset}\")"
   ]
  },
  {
   "cell_type": "code",
   "execution_count": null,
   "metadata": {},
   "outputs": [],
   "source": []
  },
  {
   "cell_type": "code",
   "execution_count": null,
   "metadata": {},
   "outputs": [],
   "source": []
  },
  {
   "cell_type": "markdown",
   "metadata": {},
   "source": []
  }
 ],
 "metadata": {
  "kernelspec": {
   "display_name": "bioext-medcat-env",
   "language": "python",
   "name": "python3"
  },
  "language_info": {
   "codemirror_mode": {
    "name": "ipython",
    "version": 3
   },
   "file_extension": ".py",
   "mimetype": "text/x-python",
   "name": "python",
   "nbconvert_exporter": "python",
   "pygments_lexer": "ipython3",
   "version": "3.11.11"
  }
 },
 "nbformat": 4,
 "nbformat_minor": 2
}
