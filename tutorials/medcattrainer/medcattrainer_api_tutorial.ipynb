{
 "cells": [
  {
   "cell_type": "markdown",
   "metadata": {},
   "source": [
    "# MedCATtrainer API Tutorial\n",
    "\n",
    "\n",
    "This tutorial will walk users through how to use the MedCATtrainer API calls. The code will walk through the code which can be found [here](src/bioext/mctrainer_utils.py)."
   ]
  },
  {
   "cell_type": "markdown",
   "metadata": {},
   "source": [
    "__Requirements:__\n",
    "\n",
    "You need to have a [medcattrainer service running locally](http://localhost:8001/)\n",
    "\n",
    "The default credentials when setup is:\n",
    "\n",
    "```bash\n",
    "username: admin\n",
    "password: admin\n",
    "```\n",
    "\n",
    "The administrative console can be found here: http://localhost:8001/admin/\n",
    "Within this admin console is where you interact the the MedCATtrainer program and setup projects\n",
    "\n",
    "\n"
   ]
  },
  {
   "cell_type": "markdown",
   "metadata": {},
   "source": []
  },
  {
   "cell_type": "markdown",
   "metadata": {},
   "source": []
  },
  {
   "cell_type": "code",
   "execution_count": null,
   "metadata": {},
   "outputs": [],
   "source": []
  }
 ],
 "metadata": {
  "kernelspec": {
   "display_name": "bioext-medcat-env",
   "language": "python",
   "name": "python3"
  },
  "language_info": {
   "codemirror_mode": {
    "name": "ipython",
    "version": 3
   },
   "file_extension": ".py",
   "mimetype": "text/x-python",
   "name": "python",
   "nbconvert_exporter": "python",
   "pygments_lexer": "ipython3",
   "version": "3.11.11"
  }
 },
 "nbformat": 4,
 "nbformat_minor": 2
}
