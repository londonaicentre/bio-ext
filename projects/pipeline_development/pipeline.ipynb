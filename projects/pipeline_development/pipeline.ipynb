{
 "cells": [
  {
   "cell_type": "code",
   "execution_count": null,
   "metadata": {},
   "outputs": [],
   "source": [
    "import os\n",
    "from bioext.doccano_utils import DoccanoSession\n",
    "from bioext.hfpipeline import GlobalConfig, DataSource, TaskType, DataHandler, HFSequenceClassificationTrainer\n",
    "from transformers import AutoTokenizer\n",
    "from dotenv import load_dotenv"
   ]
  },
  {
   "cell_type": "code",
   "execution_count": null,
   "metadata": {},
   "outputs": [],
   "source": [
    "# This notebook is for testing the functionality of hfpipeline.py\n",
    "# Before using, load up your local Doccano instance and create a project + load data\n",
    "# Sample pre-labelled data is provided in ./imports for binary classification, multiclass (3 label) classification, and multilabel (4 label) classification\n",
    "# A pre-labelled NER dataset is provided, but not yet implemented in hfpipeline"
   ]
  },
  {
   "cell_type": "code",
   "execution_count": null,
   "metadata": {},
   "outputs": [],
   "source": [
    "load_dotenv()\n",
    "docsesh = DoccanoSession()"
   ]
  },
  {
   "cell_type": "code",
   "execution_count": null,
   "metadata": {},
   "outputs": [],
   "source": [
    "projects = docsesh.client.list_projects()\n",
    "\n",
    "for project in projects:\n",
    "    print(f\"Project ID: {project.id}, Name: {project.name}, Type: {project.project_type}\")"
   ]
  },
  {
   "cell_type": "code",
   "execution_count": null,
   "metadata": {},
   "outputs": [],
   "source": [
    "config = GlobalConfig(\n",
    "    doc_project_id=1,\n",
    "    source=DataSource.DOCCANO,\n",
    "    task=TaskType.MULTILABEL,\n",
    "    num_labels=4,\n",
    "    model_name=\"distilbert-base-uncased\",\n",
    "    max_length=256,\n",
    "    batch_size=16,\n",
    "    learning_rate=3e-5,\n",
    "    num_train_epochs=3,\n",
    "    output_dir=\"./model_output\"\n",
    ")\n",
    "\n",
    "# data handler to load and preprocess data\n",
    "data_handler = DataHandler(config=config)\n",
    "\n",
    "print(f\"Training samples: {len(data_handler.train_dataset)}\")\n",
    "print(f\"Testing samples: {len(data_handler.test_dataset)}\")\n",
    "\n",
    "sample = data_handler.train_dataset[0]\n",
    "print(sample)"
   ]
  },
  {
   "cell_type": "code",
   "execution_count": null,
   "metadata": {},
   "outputs": [],
   "source": [
    "# initialise trainer\n",
    "trainer = HFSequenceClassificationTrainer(\n",
    "    config=config,\n",
    "    tokenizer=data_handler.tokenizer\n",
    ")"
   ]
  },
  {
   "cell_type": "code",
   "execution_count": null,
   "metadata": {},
   "outputs": [],
   "source": [
    "trainer.setup_trainer(\n",
    "    train_dataset=data_handler.train_dataset,\n",
    "    eval_dataset=data_handler.test_dataset\n",
    ")"
   ]
  },
  {
   "cell_type": "code",
   "execution_count": null,
   "metadata": {},
   "outputs": [],
   "source": [
    "training_metrics = trainer.train()\n",
    "\n",
    "print(f\"Model saved to: {os.path.abspath(config.output_dir)}\")\n",
    "print(\"Training metrics:\")\n",
    "for key, value in training_metrics.items():\n",
    "    print(f\"{key}: {value:.2f}\")\n",
    "\n",
    "eval_results = trainer.trainer.evaluate()\n",
    "\n",
    "print(\"Evaluation metrics:\")\n",
    "for key, value in eval_results.items():\n",
    "    if isinstance(value, (int, float)):\n",
    "        print(f\"{key}: {value:.2f}\")"
   ]
  }
 ],
 "metadata": {
  "kernelspec": {
   "display_name": "bioext",
   "language": "python",
   "name": "python3"
  },
  "language_info": {
   "codemirror_mode": {
    "name": "ipython",
    "version": 3
   },
   "file_extension": ".py",
   "mimetype": "text/x-python",
   "name": "python",
   "nbconvert_exporter": "python",
   "pygments_lexer": "ipython3",
   "version": "3.11.2"
  }
 },
 "nbformat": 4,
 "nbformat_minor": 2
}
