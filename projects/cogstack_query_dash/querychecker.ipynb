{
 "cells": [
  {
   "cell_type": "code",
   "execution_count": null,
   "metadata": {},
   "outputs": [],
   "source": [
    "# This jupyter note book helps play around with queries manually"
   ]
  },
  {
   "cell_type": "code",
   "execution_count": 18,
   "metadata": {},
   "outputs": [],
   "source": [
    "from dotenv import load_dotenv\n",
    "import os\n",
    "from csdash import dbaccess\n",
    "from rich import print\n",
    "import time \n",
    "import pandas as pd"
   ]
  },
  {
   "cell_type": "code",
   "execution_count": 19,
   "metadata": {},
   "outputs": [
    {
     "data": {
      "text/html": [
       "<pre style=\"white-space:pre;overflow-x:auto;line-height:normal;font-family:Menlo,'DejaVu Sans Mono',consolas,'Courier New',monospace\">TbF70ZQBjIvyPy2Q2836\n",
       "</pre>\n"
      ],
      "text/plain": [
       "TbF70ZQBjIvyPy2Q2836\n"
      ]
     },
     "metadata": {},
     "output_type": "display_data"
    }
   ],
   "source": [
    "# load the dependencies and check instaleld correctly \n",
    "load_dotenv()\n",
    "\n",
    "es = dbaccess.connect_cogstack()\n",
    "user = os.environ.get(\"ELASTIC_API_ID\")\n",
    "print(user)"
   ]
  },
  {
   "cell_type": "code",
   "execution_count": 46,
   "metadata": {},
   "outputs": [],
   "source": [
    "\n",
    "index = \"gstt_clinical_geneworks_documents_20230404\"\n",
    "\n",
    "aggregatesquery = {\n",
    "  \"size\":0,\n",
    "  \"aggs\":{\n",
    "    \"unique_doc_cat\":{\n",
    "      \"terms\":{\n",
    "        \"field\":\"document_Category\",\n",
    "        \"size\": 10000\n",
    "      }\n",
    "    },\n",
    "    \"unique_vals_doccontenttypes\":{\n",
    "      \"terms\":{\n",
    "        \"field\":\"document_ContentType\",\n",
    "        \"size\":10000\n",
    "      }\n",
    "    },\n",
    "    \"unique_doc_Genetics_area\":{\n",
    "      \"terms\":{\n",
    "        \"field\":\"document_GeneticsArea\",\n",
    "        \"size\":10000\n",
    "      }\n",
    "    }\n",
    "  }\n",
    "}\n"
   ]
  },
  {
   "cell_type": "code",
   "execution_count": 47,
   "metadata": {},
   "outputs": [],
   "source": [
    "response = es.search(index=index, body=aggregatesquery)"
   ]
  },
  {
   "cell_type": "code",
   "execution_count": 48,
   "metadata": {},
   "outputs": [
    {
     "data": {
      "text/html": [
       "<pre style=\"white-space:pre;overflow-x:auto;line-height:normal;font-family:Menlo,'DejaVu Sans Mono',consolas,'Courier New',monospace\"><span style=\"font-weight: bold\">{</span>\n",
       "    <span style=\"color: #008000; text-decoration-color: #008000\">'unique_doc_Genetics_area'</span>: <span style=\"font-weight: bold\">{</span>\n",
       "        <span style=\"color: #008000; text-decoration-color: #008000\">'doc_count_error_upper_bound'</span>: <span style=\"color: #008080; text-decoration-color: #008080; font-weight: bold\">0</span>,\n",
       "        <span style=\"color: #008000; text-decoration-color: #008000\">'sum_other_doc_count'</span>: <span style=\"color: #008080; text-decoration-color: #008080; font-weight: bold\">0</span>,\n",
       "        <span style=\"color: #008000; text-decoration-color: #008000\">'buckets'</span>: <span style=\"font-weight: bold\">[</span>\n",
       "            <span style=\"font-weight: bold\">{</span><span style=\"color: #008000; text-decoration-color: #008000\">'key'</span>: <span style=\"color: #008000; text-decoration-color: #008000\">'Cytogenetics'</span>, <span style=\"color: #008000; text-decoration-color: #008000\">'doc_count'</span>: <span style=\"color: #008080; text-decoration-color: #008080; font-weight: bold\">157836</span><span style=\"font-weight: bold\">}</span>,\n",
       "            <span style=\"font-weight: bold\">{</span><span style=\"color: #008000; text-decoration-color: #008000\">'key'</span>: <span style=\"color: #008000; text-decoration-color: #008000\">'Molecular Genetics'</span>, <span style=\"color: #008000; text-decoration-color: #008000\">'doc_count'</span>: <span style=\"color: #008080; text-decoration-color: #008080; font-weight: bold\">50200</span><span style=\"font-weight: bold\">}</span>,\n",
       "            <span style=\"font-weight: bold\">{</span><span style=\"color: #008000; text-decoration-color: #008000\">'key'</span>: <span style=\"color: #008000; text-decoration-color: #008000\">'Biochemistry'</span>, <span style=\"color: #008000; text-decoration-color: #008000\">'doc_count'</span>: <span style=\"color: #008080; text-decoration-color: #008080; font-weight: bold\">28507</span><span style=\"font-weight: bold\">}</span>\n",
       "        <span style=\"font-weight: bold\">]</span>\n",
       "    <span style=\"font-weight: bold\">}</span>,\n",
       "    <span style=\"color: #008000; text-decoration-color: #008000\">'unique_vals_doccontenttypes'</span>: <span style=\"font-weight: bold\">{</span>\n",
       "        <span style=\"color: #008000; text-decoration-color: #008000\">'doc_count_error_upper_bound'</span>: <span style=\"color: #008080; text-decoration-color: #008080; font-weight: bold\">0</span>,\n",
       "        <span style=\"color: #008000; text-decoration-color: #008000\">'sum_other_doc_count'</span>: <span style=\"color: #008080; text-decoration-color: #008080; font-weight: bold\">0</span>,\n",
       "        <span style=\"color: #008000; text-decoration-color: #008000\">'buckets'</span>: <span style=\"font-weight: bold\">[</span>\n",
       "            <span style=\"font-weight: bold\">{</span><span style=\"color: #008000; text-decoration-color: #008000\">'key'</span>: <span style=\"color: #008000; text-decoration-color: #008000\">'application/msword'</span>, <span style=\"color: #008000; text-decoration-color: #008000\">'doc_count'</span>: <span style=\"color: #008080; text-decoration-color: #008080; font-weight: bold\">312128</span><span style=\"font-weight: bold\">}</span>,\n",
       "            <span style=\"font-weight: bold\">{</span><span style=\"color: #008000; text-decoration-color: #008000\">'key'</span>: <span style=\"color: #008000; text-decoration-color: #008000\">'application/pdf'</span>, <span style=\"color: #008000; text-decoration-color: #008000\">'doc_count'</span>: <span style=\"color: #008080; text-decoration-color: #008080; font-weight: bold\">153095</span><span style=\"font-weight: bold\">}</span>,\n",
       "            <span style=\"font-weight: bold\">{</span>\n",
       "                <span style=\"color: #008000; text-decoration-color: #008000\">'key'</span>: <span style=\"color: #008000; text-decoration-color: #008000\">'application/vnd.openxmlformats-officedocument.wordprocessingml.document'</span>,\n",
       "                <span style=\"color: #008000; text-decoration-color: #008000\">'doc_count'</span>: <span style=\"color: #008080; text-decoration-color: #008080; font-weight: bold\">145610</span>\n",
       "            <span style=\"font-weight: bold\">}</span>,\n",
       "            <span style=\"font-weight: bold\">{</span><span style=\"color: #008000; text-decoration-color: #008000\">'key'</span>: <span style=\"color: #008000; text-decoration-color: #008000\">'text/plain; charset=windows-1252'</span>, <span style=\"color: #008000; text-decoration-color: #008000\">'doc_count'</span>: <span style=\"color: #008080; text-decoration-color: #008080; font-weight: bold\">36293</span><span style=\"font-weight: bold\">}</span>,\n",
       "            <span style=\"font-weight: bold\">{</span><span style=\"color: #008000; text-decoration-color: #008000\">'key'</span>: <span style=\"color: #008000; text-decoration-color: #008000\">'application/vnd.wordperfect; version=5.1'</span>, <span style=\"color: #008000; text-decoration-color: #008000\">'doc_count'</span>: <span style=\"color: #008080; text-decoration-color: #008080; font-weight: bold\">21553</span><span style=\"font-weight: bold\">}</span>,\n",
       "            <span style=\"font-weight: bold\">{</span><span style=\"color: #008000; text-decoration-color: #008000\">'key'</span>: <span style=\"color: #008000; text-decoration-color: #008000\">'text/plain; charset=iso-8859-1'</span>, <span style=\"color: #008000; text-decoration-color: #008000\">'doc_count'</span>: <span style=\"color: #008080; text-decoration-color: #008080; font-weight: bold\">2282</span><span style=\"font-weight: bold\">}</span>,\n",
       "            <span style=\"font-weight: bold\">{</span><span style=\"color: #008000; text-decoration-color: #008000\">'key'</span>: <span style=\"color: #008000; text-decoration-color: #008000\">'application/vnd.ms-outlook'</span>, <span style=\"color: #008000; text-decoration-color: #008000\">'doc_count'</span>: <span style=\"color: #008080; text-decoration-color: #008080; font-weight: bold\">687</span><span style=\"font-weight: bold\">}</span>,\n",
       "            <span style=\"font-weight: bold\">{</span><span style=\"color: #008000; text-decoration-color: #008000\">'key'</span>: <span style=\"color: #008000; text-decoration-color: #008000\">'image/jpeg'</span>, <span style=\"color: #008000; text-decoration-color: #008000\">'doc_count'</span>: <span style=\"color: #008080; text-decoration-color: #008080; font-weight: bold\">244</span><span style=\"font-weight: bold\">}</span>,\n",
       "            <span style=\"font-weight: bold\">{</span><span style=\"color: #008000; text-decoration-color: #008000\">'key'</span>: <span style=\"color: #008000; text-decoration-color: #008000\">'image/tiff'</span>, <span style=\"color: #008000; text-decoration-color: #008000\">'doc_count'</span>: <span style=\"color: #008080; text-decoration-color: #008080; font-weight: bold\">74</span><span style=\"font-weight: bold\">}</span>,\n",
       "            <span style=\"font-weight: bold\">{</span><span style=\"color: #008000; text-decoration-color: #008000\">'key'</span>: <span style=\"color: #008000; text-decoration-color: #008000\">'application/rtf'</span>, <span style=\"color: #008000; text-decoration-color: #008000\">'doc_count'</span>: <span style=\"color: #008080; text-decoration-color: #008080; font-weight: bold\">26</span><span style=\"font-weight: bold\">}</span>,\n",
       "            <span style=\"font-weight: bold\">{</span><span style=\"color: #008000; text-decoration-color: #008000\">'key'</span>: <span style=\"color: #008000; text-decoration-color: #008000\">'image/png'</span>, <span style=\"color: #008000; text-decoration-color: #008000\">'doc_count'</span>: <span style=\"color: #008080; text-decoration-color: #008080; font-weight: bold\">17</span><span style=\"font-weight: bold\">}</span>,\n",
       "            <span style=\"font-weight: bold\">{</span><span style=\"color: #008000; text-decoration-color: #008000\">'key'</span>: <span style=\"color: #008000; text-decoration-color: #008000\">'message/rfc822'</span>, <span style=\"color: #008000; text-decoration-color: #008000\">'doc_count'</span>: <span style=\"color: #008080; text-decoration-color: #008080; font-weight: bold\">15</span><span style=\"font-weight: bold\">}</span>,\n",
       "            <span style=\"font-weight: bold\">{</span><span style=\"color: #008000; text-decoration-color: #008000\">'key'</span>: <span style=\"color: #008000; text-decoration-color: #008000\">'text/html; charset=windows-1250'</span>, <span style=\"color: #008000; text-decoration-color: #008000\">'doc_count'</span>: <span style=\"color: #008080; text-decoration-color: #008080; font-weight: bold\">4</span><span style=\"font-weight: bold\">}</span>,\n",
       "            <span style=\"font-weight: bold\">{</span><span style=\"color: #008000; text-decoration-color: #008000\">'key'</span>: <span style=\"color: #008000; text-decoration-color: #008000\">'application/octet-stream'</span>, <span style=\"color: #008000; text-decoration-color: #008000\">'doc_count'</span>: <span style=\"color: #008080; text-decoration-color: #008080; font-weight: bold\">2</span><span style=\"font-weight: bold\">}</span>,\n",
       "            <span style=\"font-weight: bold\">{</span><span style=\"color: #008000; text-decoration-color: #008000\">'key'</span>: <span style=\"color: #008000; text-decoration-color: #008000\">'text/html; charset=ibm866'</span>, <span style=\"color: #008000; text-decoration-color: #008000\">'doc_count'</span>: <span style=\"color: #008080; text-decoration-color: #008080; font-weight: bold\">2</span><span style=\"font-weight: bold\">}</span>,\n",
       "            <span style=\"font-weight: bold\">{</span><span style=\"color: #008000; text-decoration-color: #008000\">'key'</span>: <span style=\"color: #008000; text-decoration-color: #008000\">'text/html; charset=iso-8859-7'</span>, <span style=\"color: #008000; text-decoration-color: #008000\">'doc_count'</span>: <span style=\"color: #008080; text-decoration-color: #008080; font-weight: bold\">2</span><span style=\"font-weight: bold\">}</span>,\n",
       "            <span style=\"font-weight: bold\">{</span><span style=\"color: #008000; text-decoration-color: #008000\">'key'</span>: <span style=\"color: #008000; text-decoration-color: #008000\">'text/html; charset=x-maccyrillic'</span>, <span style=\"color: #008000; text-decoration-color: #008000\">'doc_count'</span>: <span style=\"color: #008080; text-decoration-color: #008080; font-weight: bold\">2</span><span style=\"font-weight: bold\">}</span>,\n",
       "            <span style=\"font-weight: bold\">{</span><span style=\"color: #008000; text-decoration-color: #008000\">'key'</span>: <span style=\"color: #008000; text-decoration-color: #008000\">'text/html; charset=ibm855'</span>, <span style=\"color: #008000; text-decoration-color: #008000\">'doc_count'</span>: <span style=\"color: #008080; text-decoration-color: #008080; font-weight: bold\">1</span><span style=\"font-weight: bold\">}</span>,\n",
       "            <span style=\"font-weight: bold\">{</span><span style=\"color: #008000; text-decoration-color: #008000\">'key'</span>: <span style=\"color: #008000; text-decoration-color: #008000\">'text/html; charset=shift_jis'</span>, <span style=\"color: #008000; text-decoration-color: #008000\">'doc_count'</span>: <span style=\"color: #008080; text-decoration-color: #008080; font-weight: bold\">1</span><span style=\"font-weight: bold\">}</span>,\n",
       "            <span style=\"font-weight: bold\">{</span><span style=\"color: #008000; text-decoration-color: #008000\">'key'</span>: <span style=\"color: #008000; text-decoration-color: #008000\">'text/html; charset=us-ascii'</span>, <span style=\"color: #008000; text-decoration-color: #008000\">'doc_count'</span>: <span style=\"color: #008080; text-decoration-color: #008080; font-weight: bold\">1</span><span style=\"font-weight: bold\">}</span>,\n",
       "            <span style=\"font-weight: bold\">{</span><span style=\"color: #008000; text-decoration-color: #008000\">'key'</span>: <span style=\"color: #008000; text-decoration-color: #008000\">'text/html; charset=utf-8'</span>, <span style=\"color: #008000; text-decoration-color: #008000\">'doc_count'</span>: <span style=\"color: #008080; text-decoration-color: #008080; font-weight: bold\">1</span><span style=\"font-weight: bold\">}</span>,\n",
       "            <span style=\"font-weight: bold\">{</span><span style=\"color: #008000; text-decoration-color: #008000\">'key'</span>: <span style=\"color: #008000; text-decoration-color: #008000\">'text/html; charset=windows-1252'</span>, <span style=\"color: #008000; text-decoration-color: #008000\">'doc_count'</span>: <span style=\"color: #008080; text-decoration-color: #008080; font-weight: bold\">1</span><span style=\"font-weight: bold\">}</span>\n",
       "        <span style=\"font-weight: bold\">]</span>\n",
       "    <span style=\"font-weight: bold\">}</span>,\n",
       "    <span style=\"color: #008000; text-decoration-color: #008000\">'unique_doc_cat'</span>: <span style=\"font-weight: bold\">{</span><span style=\"color: #008000; text-decoration-color: #008000\">'doc_count_error_upper_bound'</span>: <span style=\"color: #008080; text-decoration-color: #008080; font-weight: bold\">0</span>, <span style=\"color: #008000; text-decoration-color: #008000\">'sum_other_doc_count'</span>: <span style=\"color: #008080; text-decoration-color: #008080; font-weight: bold\">0</span>, <span style=\"color: #008000; text-decoration-color: #008000\">'buckets'</span>: <span style=\"font-weight: bold\">[]}</span>\n",
       "<span style=\"font-weight: bold\">}</span>\n",
       "</pre>\n"
      ],
      "text/plain": [
       "\u001b[1m{\u001b[0m\n",
       "    \u001b[32m'unique_doc_Genetics_area'\u001b[0m: \u001b[1m{\u001b[0m\n",
       "        \u001b[32m'doc_count_error_upper_bound'\u001b[0m: \u001b[1;36m0\u001b[0m,\n",
       "        \u001b[32m'sum_other_doc_count'\u001b[0m: \u001b[1;36m0\u001b[0m,\n",
       "        \u001b[32m'buckets'\u001b[0m: \u001b[1m[\u001b[0m\n",
       "            \u001b[1m{\u001b[0m\u001b[32m'key'\u001b[0m: \u001b[32m'Cytogenetics'\u001b[0m, \u001b[32m'doc_count'\u001b[0m: \u001b[1;36m157836\u001b[0m\u001b[1m}\u001b[0m,\n",
       "            \u001b[1m{\u001b[0m\u001b[32m'key'\u001b[0m: \u001b[32m'Molecular Genetics'\u001b[0m, \u001b[32m'doc_count'\u001b[0m: \u001b[1;36m50200\u001b[0m\u001b[1m}\u001b[0m,\n",
       "            \u001b[1m{\u001b[0m\u001b[32m'key'\u001b[0m: \u001b[32m'Biochemistry'\u001b[0m, \u001b[32m'doc_count'\u001b[0m: \u001b[1;36m28507\u001b[0m\u001b[1m}\u001b[0m\n",
       "        \u001b[1m]\u001b[0m\n",
       "    \u001b[1m}\u001b[0m,\n",
       "    \u001b[32m'unique_vals_doccontenttypes'\u001b[0m: \u001b[1m{\u001b[0m\n",
       "        \u001b[32m'doc_count_error_upper_bound'\u001b[0m: \u001b[1;36m0\u001b[0m,\n",
       "        \u001b[32m'sum_other_doc_count'\u001b[0m: \u001b[1;36m0\u001b[0m,\n",
       "        \u001b[32m'buckets'\u001b[0m: \u001b[1m[\u001b[0m\n",
       "            \u001b[1m{\u001b[0m\u001b[32m'key'\u001b[0m: \u001b[32m'application/msword'\u001b[0m, \u001b[32m'doc_count'\u001b[0m: \u001b[1;36m312128\u001b[0m\u001b[1m}\u001b[0m,\n",
       "            \u001b[1m{\u001b[0m\u001b[32m'key'\u001b[0m: \u001b[32m'application/pdf'\u001b[0m, \u001b[32m'doc_count'\u001b[0m: \u001b[1;36m153095\u001b[0m\u001b[1m}\u001b[0m,\n",
       "            \u001b[1m{\u001b[0m\n",
       "                \u001b[32m'key'\u001b[0m: \u001b[32m'application/vnd.openxmlformats-officedocument.wordprocessingml.document'\u001b[0m,\n",
       "                \u001b[32m'doc_count'\u001b[0m: \u001b[1;36m145610\u001b[0m\n",
       "            \u001b[1m}\u001b[0m,\n",
       "            \u001b[1m{\u001b[0m\u001b[32m'key'\u001b[0m: \u001b[32m'text/plain; \u001b[0m\u001b[32mcharset\u001b[0m\u001b[32m=\u001b[0m\u001b[32mwindows\u001b[0m\u001b[32m-1252'\u001b[0m, \u001b[32m'doc_count'\u001b[0m: \u001b[1;36m36293\u001b[0m\u001b[1m}\u001b[0m,\n",
       "            \u001b[1m{\u001b[0m\u001b[32m'key'\u001b[0m: \u001b[32m'application/vnd.wordperfect; \u001b[0m\u001b[32mversion\u001b[0m\u001b[32m=\u001b[0m\u001b[32m5\u001b[0m\u001b[32m.1'\u001b[0m, \u001b[32m'doc_count'\u001b[0m: \u001b[1;36m21553\u001b[0m\u001b[1m}\u001b[0m,\n",
       "            \u001b[1m{\u001b[0m\u001b[32m'key'\u001b[0m: \u001b[32m'text/plain; \u001b[0m\u001b[32mcharset\u001b[0m\u001b[32m=\u001b[0m\u001b[32miso\u001b[0m\u001b[32m-8859-1'\u001b[0m, \u001b[32m'doc_count'\u001b[0m: \u001b[1;36m2282\u001b[0m\u001b[1m}\u001b[0m,\n",
       "            \u001b[1m{\u001b[0m\u001b[32m'key'\u001b[0m: \u001b[32m'application/vnd.ms-outlook'\u001b[0m, \u001b[32m'doc_count'\u001b[0m: \u001b[1;36m687\u001b[0m\u001b[1m}\u001b[0m,\n",
       "            \u001b[1m{\u001b[0m\u001b[32m'key'\u001b[0m: \u001b[32m'image/jpeg'\u001b[0m, \u001b[32m'doc_count'\u001b[0m: \u001b[1;36m244\u001b[0m\u001b[1m}\u001b[0m,\n",
       "            \u001b[1m{\u001b[0m\u001b[32m'key'\u001b[0m: \u001b[32m'image/tiff'\u001b[0m, \u001b[32m'doc_count'\u001b[0m: \u001b[1;36m74\u001b[0m\u001b[1m}\u001b[0m,\n",
       "            \u001b[1m{\u001b[0m\u001b[32m'key'\u001b[0m: \u001b[32m'application/rtf'\u001b[0m, \u001b[32m'doc_count'\u001b[0m: \u001b[1;36m26\u001b[0m\u001b[1m}\u001b[0m,\n",
       "            \u001b[1m{\u001b[0m\u001b[32m'key'\u001b[0m: \u001b[32m'image/png'\u001b[0m, \u001b[32m'doc_count'\u001b[0m: \u001b[1;36m17\u001b[0m\u001b[1m}\u001b[0m,\n",
       "            \u001b[1m{\u001b[0m\u001b[32m'key'\u001b[0m: \u001b[32m'message/rfc822'\u001b[0m, \u001b[32m'doc_count'\u001b[0m: \u001b[1;36m15\u001b[0m\u001b[1m}\u001b[0m,\n",
       "            \u001b[1m{\u001b[0m\u001b[32m'key'\u001b[0m: \u001b[32m'text/html; \u001b[0m\u001b[32mcharset\u001b[0m\u001b[32m=\u001b[0m\u001b[32mwindows\u001b[0m\u001b[32m-1250'\u001b[0m, \u001b[32m'doc_count'\u001b[0m: \u001b[1;36m4\u001b[0m\u001b[1m}\u001b[0m,\n",
       "            \u001b[1m{\u001b[0m\u001b[32m'key'\u001b[0m: \u001b[32m'application/octet-stream'\u001b[0m, \u001b[32m'doc_count'\u001b[0m: \u001b[1;36m2\u001b[0m\u001b[1m}\u001b[0m,\n",
       "            \u001b[1m{\u001b[0m\u001b[32m'key'\u001b[0m: \u001b[32m'text/html; \u001b[0m\u001b[32mcharset\u001b[0m\u001b[32m=\u001b[0m\u001b[32mibm866\u001b[0m\u001b[32m'\u001b[0m, \u001b[32m'doc_count'\u001b[0m: \u001b[1;36m2\u001b[0m\u001b[1m}\u001b[0m,\n",
       "            \u001b[1m{\u001b[0m\u001b[32m'key'\u001b[0m: \u001b[32m'text/html; \u001b[0m\u001b[32mcharset\u001b[0m\u001b[32m=\u001b[0m\u001b[32miso\u001b[0m\u001b[32m-8859-7'\u001b[0m, \u001b[32m'doc_count'\u001b[0m: \u001b[1;36m2\u001b[0m\u001b[1m}\u001b[0m,\n",
       "            \u001b[1m{\u001b[0m\u001b[32m'key'\u001b[0m: \u001b[32m'text/html; \u001b[0m\u001b[32mcharset\u001b[0m\u001b[32m=\u001b[0m\u001b[32mx\u001b[0m\u001b[32m-maccyrillic'\u001b[0m, \u001b[32m'doc_count'\u001b[0m: \u001b[1;36m2\u001b[0m\u001b[1m}\u001b[0m,\n",
       "            \u001b[1m{\u001b[0m\u001b[32m'key'\u001b[0m: \u001b[32m'text/html; \u001b[0m\u001b[32mcharset\u001b[0m\u001b[32m=\u001b[0m\u001b[32mibm855\u001b[0m\u001b[32m'\u001b[0m, \u001b[32m'doc_count'\u001b[0m: \u001b[1;36m1\u001b[0m\u001b[1m}\u001b[0m,\n",
       "            \u001b[1m{\u001b[0m\u001b[32m'key'\u001b[0m: \u001b[32m'text/html; \u001b[0m\u001b[32mcharset\u001b[0m\u001b[32m=\u001b[0m\u001b[32mshift_jis\u001b[0m\u001b[32m'\u001b[0m, \u001b[32m'doc_count'\u001b[0m: \u001b[1;36m1\u001b[0m\u001b[1m}\u001b[0m,\n",
       "            \u001b[1m{\u001b[0m\u001b[32m'key'\u001b[0m: \u001b[32m'text/html; \u001b[0m\u001b[32mcharset\u001b[0m\u001b[32m=\u001b[0m\u001b[32mus\u001b[0m\u001b[32m-ascii'\u001b[0m, \u001b[32m'doc_count'\u001b[0m: \u001b[1;36m1\u001b[0m\u001b[1m}\u001b[0m,\n",
       "            \u001b[1m{\u001b[0m\u001b[32m'key'\u001b[0m: \u001b[32m'text/html; \u001b[0m\u001b[32mcharset\u001b[0m\u001b[32m=\u001b[0m\u001b[32mutf\u001b[0m\u001b[32m-8'\u001b[0m, \u001b[32m'doc_count'\u001b[0m: \u001b[1;36m1\u001b[0m\u001b[1m}\u001b[0m,\n",
       "            \u001b[1m{\u001b[0m\u001b[32m'key'\u001b[0m: \u001b[32m'text/html; \u001b[0m\u001b[32mcharset\u001b[0m\u001b[32m=\u001b[0m\u001b[32mwindows\u001b[0m\u001b[32m-1252'\u001b[0m, \u001b[32m'doc_count'\u001b[0m: \u001b[1;36m1\u001b[0m\u001b[1m}\u001b[0m\n",
       "        \u001b[1m]\u001b[0m\n",
       "    \u001b[1m}\u001b[0m,\n",
       "    \u001b[32m'unique_doc_cat'\u001b[0m: \u001b[1m{\u001b[0m\u001b[32m'doc_count_error_upper_bound'\u001b[0m: \u001b[1;36m0\u001b[0m, \u001b[32m'sum_other_doc_count'\u001b[0m: \u001b[1;36m0\u001b[0m, \u001b[32m'buckets'\u001b[0m: \u001b[1m[\u001b[0m\u001b[1m]\u001b[0m\u001b[1m}\u001b[0m\n",
       "\u001b[1m}\u001b[0m\n"
      ]
     },
     "metadata": {},
     "output_type": "display_data"
    }
   ],
   "source": [
    "print(response[\"aggregations\"])"
   ]
  },
  {
   "cell_type": "code",
   "execution_count": null,
   "metadata": {},
   "outputs": [],
   "source": []
  },
  {
   "cell_type": "code",
   "execution_count": 49,
   "metadata": {},
   "outputs": [],
   "source": [
    "query4 = {\n",
    "  \"_source\": [\n",
    "    \"document_Category\",\n",
    "    \"document_GeneticsArea\",\n",
    "    \"document_CreatedWhen\"\n",
    "    \"document_UpdatedWhen\",\n",
    "    \"document_Name\",\n",
    "    \"document_Content\",\n",
    "    \"document_Notes\",\n",
    "    \"document_SourceId\",\n",
    "    \"document_TrustId\",\n",
    "    \"document_Type\"\n",
    "    \"document_SpecimenNumber\"\n",
    "    \"patient_Age\",\n",
    "    \"patient_HospitalNumber\",\n",
    "    \"patient_SourceId\",\n",
    "    \"patient_NhsNumber\",\n",
    "    \"patient_FirstName\",\n",
    "    \"patient_MiddleName\",\n",
    "    \"patient_LastName\",\n",
    "    \"patient_Gender\",\n",
    "    \"patient_DateOfBirth\",\n",
    "    \"patient_Ethnicity\",\n",
    "    \"patient_EpicId\"\n",
    "  ],\n",
    "  \"query\": {\n",
    "    \"bool\": {\n",
    "      \"should\":[\n",
    "        {\"match_phrase\":{\"document_Content\":{\n",
    "          \"query\": \"BRCA\"\n",
    "        }}},\n",
    "        {\"match_phrase\":{\"document_Content\":{\n",
    "          \"query\": \"breast cancer gene\"\n",
    "        }}},\n",
    "        {\"match_phrase\":{\"document_Content\":{\n",
    "          \"query\": \"breast cancer gene variant\"\n",
    "        }}},\n",
    "        {\"match_phrase\":{\"document_Content\":{\n",
    "          \"query\": \"brca1\"\n",
    "        }}},\n",
    "        {\"match_phrase\":{\"document_Content\":{\n",
    "          \"query\": \"brca2\"\n",
    "        }}},\n",
    "        {\"match_phrase\":{\"document_Content\":{\n",
    "          \"query\": \"brca mutation\"\n",
    "        }}},\n",
    "        ],\n",
    "      \"minimum_should_match\":1,\n",
    "    }\n",
    "   }\n",
    "}"
   ]
  },
  {
   "cell_type": "code",
   "execution_count": 50,
   "metadata": {},
   "outputs": [],
   "source": [
    "response2 = es.search(index=index, body=query4,scroll=\"3m\")\n"
   ]
  },
  {
   "cell_type": "code",
   "execution_count": 51,
   "metadata": {},
   "outputs": [
    {
     "data": {
      "text/html": [
       "<pre style=\"white-space:pre;overflow-x:auto;line-height:normal;font-family:Menlo,'DejaVu Sans Mono',consolas,'Courier New',monospace\"><span style=\"color: #008080; text-decoration-color: #008080; font-weight: bold\">25251</span>\n",
       "</pre>\n"
      ],
      "text/plain": [
       "\u001b[1;36m25251\u001b[0m\n"
      ]
     },
     "metadata": {},
     "output_type": "display_data"
    }
   ],
   "source": [
    "print(response2[\"hits\"][\"total\"][\"value\"])"
   ]
  },
  {
   "cell_type": "code",
   "execution_count": 55,
   "metadata": {},
   "outputs": [],
   "source": [
    "def get_all_hits(index_name,query,size=10000):\n",
    "    \n",
    "    result = es.search(\n",
    "        index = index_name,\n",
    "        body = query,\n",
    "        scroll = \"5m\",\n",
    "        size = size\n",
    "    )\n",
    "    \n",
    "    scroll_id = result[\"_scroll_id\"]\n",
    "    hits = result[\"hits\"][\"hits\"]\n",
    "    \n",
    "    while len(result[\"hits\"][\"hits\"]):\n",
    "        result = es.scroll(scroll_id = scroll_id, scroll = \"5m\")\n",
    "        hits.extend(result[\"hits\"][\"hits\"])\n",
    "        print(f\"retrieved {len(hits)} hits thus far\")\n",
    "        time.sleep(0.1)\n",
    "    \n",
    "    es.clear_scroll(scroll_id = scroll_id)\n",
    "    df = pd.json_normalize(hits)\n",
    "    return df  \n",
    "        \n",
    "    "
   ]
  },
  {
   "cell_type": "code",
   "execution_count": 57,
   "metadata": {},
   "outputs": [
    {
     "name": "stderr",
     "output_type": "stream",
     "text": [
      "/tmp/ipykernel_16313/4261326484.py:6: DeprecationWarning: Received 'size' via a specific parameter in the presence of a 'body' parameter, which is deprecated and will be removed in a future version. Instead, use only 'body' or only specific parameters.\n",
      "  result = es.search(\n"
     ]
    },
    {
     "data": {
      "text/html": [
       "<pre style=\"white-space:pre;overflow-x:auto;line-height:normal;font-family:Menlo,'DejaVu Sans Mono',consolas,'Courier New',monospace\">retrieved <span style=\"color: #008080; text-decoration-color: #008080; font-weight: bold\">20000</span> hits thus far\n",
       "</pre>\n"
      ],
      "text/plain": [
       "retrieved \u001b[1;36m20000\u001b[0m hits thus far\n"
      ]
     },
     "metadata": {},
     "output_type": "display_data"
    },
    {
     "data": {
      "text/html": [
       "<pre style=\"white-space:pre;overflow-x:auto;line-height:normal;font-family:Menlo,'DejaVu Sans Mono',consolas,'Courier New',monospace\">retrieved <span style=\"color: #008080; text-decoration-color: #008080; font-weight: bold\">25251</span> hits thus far\n",
       "</pre>\n"
      ],
      "text/plain": [
       "retrieved \u001b[1;36m25251\u001b[0m hits thus far\n"
      ]
     },
     "metadata": {},
     "output_type": "display_data"
    },
    {
     "data": {
      "text/html": [
       "<pre style=\"white-space:pre;overflow-x:auto;line-height:normal;font-family:Menlo,'DejaVu Sans Mono',consolas,'Courier New',monospace\">retrieved <span style=\"color: #008080; text-decoration-color: #008080; font-weight: bold\">25251</span> hits thus far\n",
       "</pre>\n"
      ],
      "text/plain": [
       "retrieved \u001b[1;36m25251\u001b[0m hits thus far\n"
      ]
     },
     "metadata": {},
     "output_type": "display_data"
    }
   ],
   "source": [
    "df = get_all_hits(index_name=index,query=query4,)"
   ]
  },
  {
   "cell_type": "code",
   "execution_count": 60,
   "metadata": {},
   "outputs": [
    {
     "ename": "ModuleNotFoundError",
     "evalue": "No module named 'elastic_utils'",
     "output_type": "error",
     "traceback": [
      "\u001b[31m---------------------------------------------------------------------------\u001b[39m",
      "\u001b[31mModuleNotFoundError\u001b[39m                       Traceback (most recent call last)",
      "\u001b[36mCell\u001b[39m\u001b[36m \u001b[39m\u001b[32mIn[60]\u001b[39m\u001b[32m, line 1\u001b[39m\n\u001b[32m----> \u001b[39m\u001b[32m1\u001b[39m \u001b[38;5;28;01mfrom\u001b[39;00m\u001b[38;5;250m \u001b[39m\u001b[34;01melastic_utils\u001b[39;00m\u001b[38;5;250m \u001b[39m\u001b[38;5;28;01mimport\u001b[39;00m ElasticsearchSession\n",
      "\u001b[31mModuleNotFoundError\u001b[39m: No module named 'elastic_utils'"
     ]
    }
   ],
   "source": [
    "from elastic_utils import ElasticsearchSession"
   ]
  },
  {
   "cell_type": "code",
   "execution_count": 58,
   "metadata": {},
   "outputs": [
    {
     "data": {
      "text/plain": [
       "(25251, 18)"
      ]
     },
     "execution_count": 58,
     "metadata": {},
     "output_type": "execute_result"
    }
   ],
   "source": [
    "df.shape"
   ]
  },
  {
   "cell_type": "code",
   "execution_count": 59,
   "metadata": {},
   "outputs": [
    {
     "data": {
      "text/plain": [
       "<bound method NDFrame.describe of                                            _index         _id     _score  \\\n",
       "0      gstt_clinical_geneworks_documents_20230404  gwr_304914  41.634590   \n",
       "1      gstt_clinical_geneworks_documents_20230404   gwd_29717  40.377316   \n",
       "2      gstt_clinical_geneworks_documents_20230404   gwd_29807  40.164360   \n",
       "3      gstt_clinical_geneworks_documents_20230404  gwd_354164  40.139870   \n",
       "4      gstt_clinical_geneworks_documents_20230404    gwd_5728  40.137283   \n",
       "...                                           ...         ...        ...   \n",
       "25246  gstt_clinical_geneworks_documents_20230404   gwd_78810   0.451600   \n",
       "25247  gstt_clinical_geneworks_documents_20230404  gwd_201953   0.369654   \n",
       "25248  gstt_clinical_geneworks_documents_20230404   gwd_74926   0.368222   \n",
       "25249  gstt_clinical_geneworks_documents_20230404  gwd_326065   0.299470   \n",
       "25250  gstt_clinical_geneworks_documents_20230404  gwd_338931   0.297297   \n",
       "\n",
       "       _source.document_TrustId _source.document_Name  \\\n",
       "0                      304914.0                   DNA   \n",
       "1                           NaN       Patient Generic   \n",
       "2                           NaN       Patient Generic   \n",
       "3                           NaN       Patient Generic   \n",
       "4                           NaN       Patient Generic   \n",
       "...                         ...                   ...   \n",
       "25246                       NaN  Lab Report - General   \n",
       "25247                       NaN       Patient Generic   \n",
       "25248                       NaN  Lab Report - General   \n",
       "25249                       NaN       Patient Generic   \n",
       "25250                       NaN       Patient Generic   \n",
       "\n",
       "                                _source.document_Content  \\\n",
       "0      DNA LABORATORY REPORT                   \\n\\n\\n...   \n",
       "1      Medical Genetics Unit,\\njorge?\\n\\nSt. George's...   \n",
       "2      Yorkshire Regional DNA Laboratory\\nClinical Ge...   \n",
       "3      Medical Genetics Unit, St. George's Healthcare...   \n",
       "4      Medical Genetics Unit,\\n\\nTel: 020 8725 5964 /...   \n",
       "...                                                  ...   \n",
       "25246  ~~\\nw\\nviapath\\nGenetics Laboratorie:\\nGuy's H...   \n",
       "25247  Patient Results\\n\\nSelection Criteria:\\n\\ncLSs...   \n",
       "25248  11TLQ06/24\\n\\nWhole Genome Analysis\\n\\nRare Di...   \n",
       "25249  GENES ARE NOT YOUR DESTINY\\nTHEY ARE YOUR BLUE...   \n",
       "25250  GENES ARE NOT YOUR DESTINY\\nTHEY ARE YOUR BLUE...   \n",
       "\n",
       "       _source.patient_SourceId _source.patient_HospitalNumber  \\\n",
       "0                        420864                       5459830Q   \n",
       "1                        652368                            NaN   \n",
       "2                        642894                       6737039D   \n",
       "3                        731569                       8135358Z   \n",
       "4                        548579                       6146805R   \n",
       "...                         ...                            ...   \n",
       "25246                    552997                       6173198X   \n",
       "25247                    695014                       0891408E   \n",
       "25248                    264265                       4605726H   \n",
       "25249                    721156                       8081380C   \n",
       "25250                    721156                       8081380C   \n",
       "\n",
       "      _source.patient_NhsNumber _source.patient_FirstName  \\\n",
       "0                    4783771898                     Jane    \n",
       "1                    4184125298            CATHERINE MARY   \n",
       "2                    4124859651                 Lisa Dawn   \n",
       "3                    4547583706             James Richard   \n",
       "4                    4440982433                 Rhiannon    \n",
       "...                         ...                       ...   \n",
       "25246                7148886007               Liam Trevor   \n",
       "25247                4326047860                    Karen    \n",
       "25248                7037810525           Davante Michael   \n",
       "25249                6394459828                 Madeline    \n",
       "25250                6394459828                 Madeline    \n",
       "\n",
       "      _source.patient_LastName _source.patient_Gender  \\\n",
       "0                     AUGUSTIN                 Female   \n",
       "1                         LANG                 Female   \n",
       "2                      POTTAGE                 Female   \n",
       "3                        WEBBE                   Male   \n",
       "4                       PITHER                 Female   \n",
       "...                        ...                    ...   \n",
       "25246                    PAINE                   Male   \n",
       "25247                  WALSHAM                 Female   \n",
       "25248                     BELL                   Male   \n",
       "25249           GOODE-MARSHALL                 Female   \n",
       "25250           GOODE-MARSHALL                 Female   \n",
       "\n",
       "      _source.patient_Ethnicity _source.patient_DateOfBirth  \\\n",
       "0                   Not stated          1960-10-31T00:00:00   \n",
       "1                           NaN         1936-12-19T00:00:00   \n",
       "2                   PAS-Unknown         1970-04-22T00:00:00   \n",
       "3                   PAS-Unknown         1980-11-06T00:00:00   \n",
       "4                   Not stated          1995-10-26T00:00:00   \n",
       "...                         ...                         ...   \n",
       "25246    British, Mixed British         2016-03-11T00:00:00   \n",
       "25247               PAS-Unknown         1965-07-15T00:00:00   \n",
       "25248                Caribbean          2007-08-18T00:00:00   \n",
       "25249               PAS-Unknown         1977-04-08T00:00:00   \n",
       "25250               PAS-Unknown         1977-04-08T00:00:00   \n",
       "\n",
       "      _source.document_SourceId  \\\n",
       "0                        304914   \n",
       "1                         29717   \n",
       "2                         29807   \n",
       "3                        354164   \n",
       "4                          5728   \n",
       "...                         ...   \n",
       "25246                     78810   \n",
       "25247                    201953   \n",
       "25248                     74926   \n",
       "25249                    326065   \n",
       "25250                    338931   \n",
       "\n",
       "                                  _source.document_Notes  \\\n",
       "0                                                    NaN   \n",
       "1                                        Genetic report    \n",
       "2                                                    NaN   \n",
       "3                              Genetic report for Mother   \n",
       "4                                                    NaN   \n",
       "...                                                  ...   \n",
       "25246                                         GEL report   \n",
       "25247                                             Report   \n",
       "25248  100K SoF\\r\\nUpdated SoF uploaded to GW by SL17...   \n",
       "25249                            Genetic Analysis Report   \n",
       "25250                                                NaN   \n",
       "\n",
       "      _source.document_GeneticsArea _source.patient_MiddleName  \n",
       "0                               NaN                        NaN  \n",
       "1                               NaN                        NaN  \n",
       "2                               NaN                        NaN  \n",
       "3                               NaN                        NaN  \n",
       "4                               NaN                        NaN  \n",
       "...                             ...                        ...  \n",
       "25246                           NaN                        NaN  \n",
       "25247                           NaN                        NaN  \n",
       "25248                           NaN                        NaN  \n",
       "25249                           NaN                        NaN  \n",
       "25250                           NaN                        NaN  \n",
       "\n",
       "[25251 rows x 18 columns]>"
      ]
     },
     "execution_count": 59,
     "metadata": {},
     "output_type": "execute_result"
    }
   ],
   "source": [
    "df.describe"
   ]
  },
  {
   "cell_type": "code",
   "execution_count": null,
   "metadata": {},
   "outputs": [],
   "source": []
  },
  {
   "cell_type": "code",
   "execution_count": 54,
   "metadata": {},
   "outputs": [],
   "source": [
    "df.to_excel(\"test.xlsx\")"
   ]
  }
 ],
 "metadata": {
  "kernelspec": {
   "display_name": "scratch-venv",
   "language": "python",
   "name": "python3"
  },
  "language_info": {
   "codemirror_mode": {
    "name": "ipython",
    "version": 3
   },
   "file_extension": ".py",
   "mimetype": "text/x-python",
   "name": "python",
   "nbconvert_exporter": "python",
   "pygments_lexer": "ipython3",
   "version": "3.13.2"
  },
  "orig_nbformat": 4
 },
 "nbformat": 4,
 "nbformat_minor": 2
}
